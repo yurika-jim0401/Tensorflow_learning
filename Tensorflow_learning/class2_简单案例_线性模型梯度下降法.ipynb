{
 "cells": [
  {
   "cell_type": "code",
   "execution_count": 1,
   "metadata": {},
   "outputs": [],
   "source": [
    "import tensorflow as tf\n",
    "import numpy as np"
   ]
  },
  {
   "cell_type": "code",
   "execution_count": 6,
   "metadata": {},
   "outputs": [
    {
     "name": "stdout",
     "output_type": "stream",
     "text": [
      "轮次: 0 [0.05636971, 0.101045206]\n",
      "轮次: 20 [0.105468, 0.19693322]\n",
      "轮次: 40 [0.103311665, 0.19814266]\n",
      "轮次: 60 [0.1020057, 0.19887511]\n",
      "轮次: 80 [0.10121473, 0.19931872]\n",
      "轮次: 100 [0.1007357, 0.19958737]\n",
      "轮次: 120 [0.10044557, 0.19975011]\n",
      "轮次: 140 [0.10026986, 0.19984865]\n",
      "轮次: 160 [0.10016343, 0.19990833]\n",
      "轮次: 180 [0.10009898, 0.1999445]\n",
      "轮次: 200 [0.10005995, 0.19996637]\n"
     ]
    }
   ],
   "source": [
    "# 使用numpy生成100个随机点\n",
    "x_data = np.random.rand(100)\n",
    "# 标签值（实际值）\n",
    "y_data = x_data*0.1 + 0.2\n",
    "\n",
    "# 构造一个线性模型\n",
    "# 首先定义两个变量，初值为0的小数类型\n",
    "b = tf.Variable(0.)\n",
    "k = tf.Variable(0.)\n",
    "y = k*x_data + b\n",
    "\n",
    "# 定义一个二次代价cost函数(平方损失函数，最小二乘法)  L = (Y - f(X))^2\n",
    "loss = tf.reduce_mean(tf.square(y_data-y)) # square()函数是求平方，reduce_mean()是求平均值\n",
    "# 定义一个梯度下降法来生成一个进行训练的优化器,其中的参数是学习率𝛈,这里设置为0.2\n",
    "optimizer = tf.train.GradientDescentOptimizer(0.2)\n",
    "# 定一个最小化代价函数，本次训练的目的是就是最小化这个loss函数\n",
    "train = optimizer.minimize(loss)\n",
    "\n",
    "init = tf.global_variables_initializer()  # 初始化变量\n",
    "\n",
    "with tf.Session() as sess:\n",
    "    sess.run(init)\n",
    "    # 迭代201次\n",
    "    for step in range(201):\n",
    "        sess.run(train)\n",
    "        # 每经过20次迭代，打印看看参数k和b的值\n",
    "        if step % 20 == 0:\n",
    "            print(\"轮次: \"+str(step),sess.run([k, b]))"
   ]
  },
  {
   "cell_type": "code",
   "execution_count": null,
   "metadata": {},
   "outputs": [],
   "source": []
  }
 ],
 "metadata": {
  "kernelspec": {
   "display_name": "py3-7for learn",
   "language": "python",
   "name": "py3-7forlearn"
  },
  "language_info": {
   "codemirror_mode": {
    "name": "ipython",
    "version": 3
   },
   "file_extension": ".py",
   "mimetype": "text/x-python",
   "name": "python",
   "nbconvert_exporter": "python",
   "pygments_lexer": "ipython3",
   "version": "3.6.8"
  }
 },
 "nbformat": 4,
 "nbformat_minor": 2
}
