{
 "cells": [
  {
   "cell_type": "markdown",
   "metadata": {},
   "source": [
    "## 创建图、启动图的过程\n",
    "### 所有的操作都是在图中，而图存在于会话session中"
   ]
  },
  {
   "cell_type": "code",
   "execution_count": 4,
   "metadata": {},
   "outputs": [
    {
     "name": "stdout",
     "output_type": "stream",
     "text": [
      "Tensor(\"MatMul:0\", shape=(1, 1), dtype=int32)\n"
     ]
    }
   ],
   "source": [
    "import tensorflow as tf\n",
    "# 创建一个常量op m1(1,2)\n",
    "m1 = tf.constant([[3, 3]])\n",
    "m2 = tf.constant([[2], [3]])  # m2(2,1)\n",
    "# 创建一个矩阵乘法op，把m1和m2传入\n",
    "product = tf.matmul(m1, m2) #口算结果为3*2+3*3=15\n",
    "# 直接输出，显示不了结果，而是显示其类型，所有的计算过程需要在图和会话中\n",
    "# print(product)"
   ]
  },
  {
   "cell_type": "markdown",
   "metadata": {},
   "source": [
    "## 上述的方法无法直接输出结果，这里我们要这样做：\n",
    "### 定义一个会话，启动系统默认的图"
   ]
  },
  {
   "cell_type": "code",
   "execution_count": 6,
   "metadata": {},
   "outputs": [
    {
     "name": "stdout",
     "output_type": "stream",
     "text": [
      "[[15]]\n"
     ]
    }
   ],
   "source": [
    "# 定义一个会话，并启动默认的图\n",
    "sess = tf.Session()\n",
    "# 在session中使用run来执行矩阵乘法op\n",
    "# run(product)触发了图中3个op\n",
    "result = sess.run(product)\n",
    "# 执行了run之后才是真正的进行了计算，此时再次打印结果\n",
    "print(result)\n",
    "# 使用完session后关闭会话\n",
    "sess.close()"
   ]
  },
  {
   "cell_type": "markdown",
   "metadata": {},
   "source": [
    "## 上述过程定义会话太过麻烦，一般使用以下简化方法"
   ]
  },
  {
   "cell_type": "code",
   "execution_count": 8,
   "metadata": {},
   "outputs": [
    {
     "name": "stdout",
     "output_type": "stream",
     "text": [
      "[[15]]\n"
     ]
    }
   ],
   "source": [
    "# 有点类似文件操作，这样免去了定义了关闭操作，系统会自动关闭session\n",
    "with tf.Session() as sess:\n",
    "    result = sess.run(product)\n",
    "    print(result)"
   ]
  },
  {
   "cell_type": "markdown",
   "metadata": {},
   "source": [
    "## tensor中变量的定义与使用"
   ]
  },
  {
   "cell_type": "code",
   "execution_count": 11,
   "metadata": {},
   "outputs": [
    {
     "name": "stdout",
     "output_type": "stream",
     "text": [
      "[-2 -1]\n",
      "[-1  1]\n"
     ]
    }
   ],
   "source": [
    "# 定义一个变量x\n",
    "x = tf.Variable([1, 2])\n",
    "# 定义一个常量a\n",
    "a = tf.constant([3, 3])\n",
    "# 增加一个减法op 将 x 和 a 作减法运算\n",
    "sub = tf.subtract(x, a)\n",
    "# 增加一个加法op\n",
    "add = tf.add(x, sub)\n",
    "# 直接这样开始运行，会产生错误“尝试使用未初始化的变量”\n",
    "# 因为这里的 变量x 未进行初始化操作\n",
    "# 这里可以使用一个全局的初始化方法来初始化所有变量\n",
    "init = tf.global_variables_initializer()\n",
    "\n",
    "with tf.Session() as sess:\n",
    "    # 在session中首先进行变量初始化的操作\n",
    "    sess.run(init)\n",
    "    print(sess.run(sub))\n",
    "    print(sess.run(add))"
   ]
  },
  {
   "cell_type": "code",
   "execution_count": 14,
   "metadata": {},
   "outputs": [
    {
     "name": "stdout",
     "output_type": "stream",
     "text": [
      "0\n",
      "1\n",
      "2\n",
      "3\n",
      "4\n",
      "5\n"
     ]
    }
   ],
   "source": [
    "# 创建一个变量，初始化为0，并为其取名为 counter\n",
    "# 该变量用于循环计数\n",
    "state = tf.Variable(0, name='counter')\n",
    "# 创建一个加法的op，该op的操作是让上述变量加 1\n",
    "new_value = tf.add(state, 1)\n",
    "# 定义一个赋值的操作，在tensorflow中，不能直接用 = 来进行赋值,而要使用赋值操作 assign\n",
    "# 这里的赋值将 new_value赋值给state\n",
    "update = tf.assign(state, new_value)\n",
    "init = tf.global_variables_initializer()\n",
    "\n",
    "with tf.Session() as sess:\n",
    "    sess.run(init)\n",
    "    # 显示初始值\n",
    "    print(sess.run(state))\n",
    "    # 循环5次 0-4\n",
    "    for _ in range(5):\n",
    "        # 将update循环执行5次，最终结果加5\n",
    "        sess.run(update)\n",
    "        # 显示每次经过循环后更新的值\n",
    "        print(sess.run(state))"
   ]
  },
  {
   "cell_type": "markdown",
   "metadata": {},
   "source": [
    "## tensor中的Fetch和Feed\n",
    "### Fetch就是能在session中执行多个op，得到其结果\n",
    "### Feed就是在session执行时传入值，而不需要预先设定值"
   ]
  },
  {
   "cell_type": "code",
   "execution_count": 4,
   "metadata": {},
   "outputs": [
    {
     "name": "stdout",
     "output_type": "stream",
     "text": [
      "[3.0, 9.0]\n"
     ]
    }
   ],
   "source": [
    "# Fetch 案例\n",
    "input1 = tf.constant(3.0)\n",
    "input2 = tf.constant(2.0)\n",
    "input3 = tf.constant(1.0)\n",
    "add = tf.add(input2, input3)\n",
    "mul = tf.multiply(input1, add)\n",
    "\n",
    "with tf.Session() as sess:\n",
    "    # 使用Fetch(就是一个中括号)后，可以在一个session同时运行多个op\n",
    "    # 首先运行mul操作，然后运行add操作\n",
    "    # 最终分别得到两个结果\n",
    "    result = sess.run([add, mul])\n",
    "    print(result)"
   ]
  },
  {
   "cell_type": "code",
   "execution_count": 17,
   "metadata": {},
   "outputs": [
    {
     "name": "stdout",
     "output_type": "stream",
     "text": [
      "[14.]\n"
     ]
    }
   ],
   "source": [
    "# Feed 案例\n",
    "# 首先创建两个占位符，并传入其类型  32位浮点型\n",
    "input1 = tf.placeholder(tf.float32)\n",
    "input2 = tf.placeholder(tf.float32)\n",
    "# 虽然这里是一个乘法的op，但由于input1和input2都\n",
    "# 还没有确定的值，仅仅是一个占位符\n",
    "output = tf.multiply(input1, input2)\n",
    "\n",
    "with tf.Session() as sess:\n",
    "    # 在这里可以在运行乘法op的时候传入值即可\n",
    "    # 相当于函数传值操作\n",
    "    # 传入值的时候用到的是python中的字典的形式\n",
    "    print(sess.run(output, feed_dict = {input1:[7.0], input2:[2.0]}))"
   ]
  },
  {
   "cell_type": "code",
   "execution_count": null,
   "metadata": {},
   "outputs": [],
   "source": []
  }
 ],
 "metadata": {
  "kernelspec": {
   "display_name": "py3-7for learn",
   "language": "python",
   "name": "py3-7forlearn"
  },
  "language_info": {
   "codemirror_mode": {
    "name": "ipython",
    "version": 3
   },
   "file_extension": ".py",
   "mimetype": "text/x-python",
   "name": "python",
   "nbconvert_exporter": "python",
   "pygments_lexer": "ipython3",
   "version": "3.6.8"
  }
 },
 "nbformat": 4,
 "nbformat_minor": 2
}
